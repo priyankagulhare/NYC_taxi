{
 "cells": [
  {
   "cell_type": "code",
   "execution_count": null,
   "metadata": {},
   "outputs": [],
   "source": [
    "#import library\n",
    "import zipfile\n",
    "import warnings\n",
    "import datetime as dt\n",
    "warnings.filterwarnings('ignore')\n",
    "import pandas as pd\n",
    "import numpy as np\n",
    "import datetime as dt\n",
    "import calendar\n",
    "from math import  atan2, radians, sin, cos, sqrt\n",
    "import seaborn as sns\n",
    "import matplotlib.pyplot as plt\n",
    "import folium\n",
    "from folium.plugins import HeatMap\n",
    "from sklearn.model_selection import train_test_split\n",
    "from sklearn.linear_model import SGDRegressor\n",
    "from sklearn.linear_model import LinearRegression\n",
    "from sklearn.metrics import mean_absolute_error"
   ]
  },
  {
   "cell_type": "code",
   "execution_count": null,
   "metadata": {},
   "outputs": [],
   "source": [
    "#import input file and create dataframe\n",
    "\n",
    "file_path ='C:\\\\Users\\\\pgulhare\\\\OneDrive - Capgemini\\\\ds code\\\\nyc-taxi-trip-duration\\\\'\n",
    "f_zip_train = file_path + 'train.zip'\n",
    "zip_train = zipfile.ZipFile(f_zip_train)\n",
    "df_train = pd.read_csv(zip_train.open('train.csv'))"
   ]
  },
  {
   "cell_type": "code",
   "execution_count": null,
   "metadata": {},
   "outputs": [],
   "source": [
    "df_train.head()"
   ]
  },
  {
   "cell_type": "code",
   "execution_count": null,
   "metadata": {},
   "outputs": [],
   "source": [
    "#convert the datetime column into the datetime standard\n",
    "df_train['pickup_datetime'] = pd.to_datetime(df_train['pickup_datetime'], format = '%Y-%m-%d %H:%M:%S')\n",
    "df_train['dropoff_datetime'] = pd.to_datetime(df_train['dropoff_datetime'], format = '%Y-%m-%d %H:%M:%S')"
   ]
  },
  {
   "cell_type": "code",
   "execution_count": null,
   "metadata": {},
   "outputs": [],
   "source": [
    "#check for null values\n",
    "df_train[pd.isnull(df_train)].sum()"
   ]
  },
  {
   "cell_type": "code",
   "execution_count": null,
   "metadata": {},
   "outputs": [],
   "source": [
    "#check the duration of complete data  \n",
    "print('Minimum datetime is ', min(df_train['pickup_datetime']))\n",
    "print('Maximum datetime is ', max(df_train['dropoff_datetime']))"
   ]
  },
  {
   "cell_type": "markdown",
   "metadata": {},
   "source": [
    "# Extracting Feature"
   ]
  },
  {
   "cell_type": "code",
   "execution_count": null,
   "metadata": {},
   "outputs": [],
   "source": [
    "#extract information from datetime column\n",
    "#helpful in doing EDA and understanding the data\n",
    "\n",
    "df_train['month'] = df_train['pickup_datetime'].dt.month\n",
    "df_train['date'] = df_train['pickup_datetime'].dt.date\n",
    "df_train['weekday'] = df_train['pickup_datetime'].dt.weekday\n",
    "df_train['day'] = df_train['pickup_datetime'].apply(lambda x: x.day)\n",
    "df_train['hour'] = df_train['pickup_datetime'].apply(lambda x : x.hour)"
   ]
  },
  {
   "cell_type": "code",
   "execution_count": null,
   "metadata": {},
   "outputs": [],
   "source": [
    "df_train.head()"
   ]
  },
  {
   "cell_type": "code",
   "execution_count": null,
   "metadata": {},
   "outputs": [],
   "source": [
    "#using the latitude, longitude, calculate the trip distance\n",
    "\n",
    "def cal_distance(row):\n",
    "    radius = 6373.0\n",
    "    pickup_latitude = radians(row['pickup_latitude'])\n",
    "    pickup_longitude = radians(row['pickup_longitude'])\n",
    "    dropoff_latitude = radians(row['dropoff_latitude'])\n",
    "    dropoff_longitude = radians(row['dropoff_longitude'])\n",
    "    \n",
    "    lon = dropoff_longitude - pickup_longitude\n",
    "    lat = dropoff_latitude - pickup_latitude\n",
    "    a = sin(lat / 2)** 2 + cos(pickup_latitude) * cos(dropoff_latitude) * sin(lon / 2)**2\n",
    "    dist = 2 * atan2(sqrt(a), sqrt(1 - a))\n",
    "    distance = radius * dist\n",
    "    return distance\n",
    "df_train['trip_distance'] = df_train.apply(lambda row : cal_distance(row), axis = 1)"
   ]
  },
  {
   "cell_type": "code",
   "execution_count": null,
   "metadata": {},
   "outputs": [],
   "source": [
    "df_train.head()"
   ]
  },
  {
   "cell_type": "markdown",
   "metadata": {},
   "source": [
    "# EDA"
   ]
  },
  {
   "cell_type": "code",
   "execution_count": null,
   "metadata": {},
   "outputs": [],
   "source": [
    "#distance outliner identification\n",
    "df_train.boxplot(column='trip_distance')"
   ]
  },
  {
   "cell_type": "code",
   "execution_count": null,
   "metadata": {},
   "outputs": [],
   "source": [
    "#visualise outliner trip duration\n",
    "plt.scatter(range(df_train.shape[0]),np.sort(df_train['trip_duration']))"
   ]
  },
  {
   "cell_type": "code",
   "execution_count": null,
   "metadata": {},
   "outputs": [],
   "source": [
    "#visualise week of day trip count\n",
    "sns.countplot(df_train['weekday'])\n",
    "#thursday , friday, saturday are the most number of taxis"
   ]
  },
  {
   "cell_type": "code",
   "execution_count": null,
   "metadata": {},
   "outputs": [],
   "source": [
    "sns.countplot(df_train['hour'])"
   ]
  },
  {
   "cell_type": "code",
   "execution_count": null,
   "metadata": {},
   "outputs": [],
   "source": [
    "sns.countplot(df_train['day'])"
   ]
  },
  {
   "cell_type": "code",
   "execution_count": null,
   "metadata": {},
   "outputs": [],
   "source": [
    "sns.countplot(df_train['month'])"
   ]
  },
  {
   "cell_type": "code",
   "execution_count": null,
   "metadata": {},
   "outputs": [],
   "source": [
    "pc = df_train.groupby('passenger_count')['trip_duration'].mean()\n",
    "sns.barplot(pc.index,pc.values)"
   ]
  },
  {
   "cell_type": "code",
   "execution_count": null,
   "metadata": {},
   "outputs": [],
   "source": [
    "pickup = df_train.groupby(['pickup_latitude','pickup_longitude'])['id'].count().reset_index().rename(columns = {'id':'Num_Trips'})\n",
    "pickup['Num_Trips'] = pickup['Num_Trips'].astype('float64')\n",
    "pickup_map = folium.Map(location = [40.730610,-73.935242],zoom_start = 10,)\n",
    "\n",
    "hm_wide = folium.plugins.HeatMap(list(zip(pickup.pickup_latitude.values, \n",
    "                           pickup.pickup_longitude.values,\n",
    "                           pickup.Num_Trips.values)),\n",
    "                  min_opacity = 0.2,\n",
    "                  radius = 5, blur = 15,\n",
    "                  max_zoom = 1)\n",
    "pickup_map.add_child(hm_wide)"
   ]
  },
  {
   "cell_type": "code",
   "execution_count": null,
   "metadata": {},
   "outputs": [],
   "source": [
    "#checking the correlation\n",
    "cor = df_train.corr()\n",
    "mask = np.array(cor)\n",
    "mask[np.tril_indices_from(mask)] = False\n",
    "fig,ax= plt.subplots()\n",
    "fig.set_size_inches(20,10)\n",
    "sns.heatmap(cor,mask= mask,square=True,annot=True)"
   ]
  },
  {
   "cell_type": "code",
   "execution_count": null,
   "metadata": {},
   "outputs": [],
   "source": [
    "#encoding the feature columns\n",
    "df_train = pd.concat([df_train, pd.get_dummies(df_train['store_and_fwd_flag'],prefix = 'store')], axis=1)\n",
    "df_train.drop(['store_and_fwd_flag'], axis=1, inplace=True)\n",
    "\n",
    "df_train = pd.concat([df_train, pd.get_dummies(df_train['vendor_id'],prefix = 'vendor')], axis=1)\n",
    "df_train.drop(['vendor_id'], axis=1, inplace=True)"
   ]
  },
  {
   "cell_type": "code",
   "execution_count": null,
   "metadata": {},
   "outputs": [],
   "source": [
    "#drop columns \n",
    "df_train = df_train.drop(['id','dropoff_latitude', 'pickup_latitude', 'dropoff_longitude', 'pickup_longitude','pickup_datetime','dropoff_datetime','month','day','date','weekday'], axis=1)"
   ]
  },
  {
   "cell_type": "code",
   "execution_count": null,
   "metadata": {},
   "outputs": [],
   "source": [
    "df_train.info()"
   ]
  },
  {
   "cell_type": "code",
   "execution_count": null,
   "metadata": {},
   "outputs": [],
   "source": []
  },
  {
   "cell_type": "code",
   "execution_count": null,
   "metadata": {},
   "outputs": [],
   "source": [
    "#create X and y\n",
    "y = df_train[\"trip_duration\"].copy().to_numpy().reshape(-1,1)\n",
    "X = df_train.drop([\"trip_duration\"], axis=1)\n"
   ]
  },
  {
   "cell_type": "code",
   "execution_count": null,
   "metadata": {
    "scrolled": true
   },
   "outputs": [],
   "source": [
    "X.head()"
   ]
  },
  {
   "cell_type": "code",
   "execution_count": null,
   "metadata": {},
   "outputs": [],
   "source": [
    "#divide the training data into the train and validation\n",
    "X_train, X_val, y_train, y_val = train_test_split(X, y, test_size=0.30, random_state=42)"
   ]
  },
  {
   "cell_type": "code",
   "execution_count": null,
   "metadata": {},
   "outputs": [],
   "source": [
    "X_train.head()\n",
    "X_val.head()"
   ]
  },
  {
   "cell_type": "code",
   "execution_count": null,
   "metadata": {},
   "outputs": [],
   "source": [
    "#using Linear Regression to train the model\n",
    "lr_model = LinearRegression()\n",
    "lr_model.fit(X_train, y_train)"
   ]
  },
  {
   "cell_type": "code",
   "execution_count": null,
   "metadata": {},
   "outputs": [],
   "source": [
    "#validation\n",
    "y_train_pred = lr_model.predict(X_train)\n",
    "y_val_pred = lr_model.predict(X_val)"
   ]
  },
  {
   "cell_type": "code",
   "execution_count": null,
   "metadata": {},
   "outputs": [],
   "source": [
    "#calculate mae\n",
    "mae = mean_absolute_error(y_train, y_train_pred)\n",
    "val_mae = mean_absolute_error(y_val, y_val_pred)\n",
    "print(f\"mae: {mae}, val_mae: {val_mae}\")"
   ]
  },
  {
   "cell_type": "code",
   "execution_count": null,
   "metadata": {},
   "outputs": [],
   "source": []
  },
  {
   "cell_type": "code",
   "execution_count": null,
   "metadata": {},
   "outputs": [],
   "source": [
    "#using Linear Regression SGD\n",
    "sgd_model = SGDRegressor(max_iter=1000, tol=1e-3)"
   ]
  },
  {
   "cell_type": "code",
   "execution_count": null,
   "metadata": {},
   "outputs": [],
   "source": [
    "X_val.head()"
   ]
  },
  {
   "cell_type": "code",
   "execution_count": null,
   "metadata": {},
   "outputs": [],
   "source": [
    "#fit validate\n",
    "\n",
    "sgd_model.fit(X_train, y_train)\n",
    "y_train_pred = sgd_model.predict(X_train)\n",
    "y_val_pred = sgd_model.predict(X_val)"
   ]
  },
  {
   "cell_type": "code",
   "execution_count": null,
   "metadata": {},
   "outputs": [],
   "source": [
    "#calculate mae in SGD\n",
    "mae = mean_absolute_error(y_train, y_train_pred)\n",
    "val_mae = mean_absolute_error(y_val, y_val_pred)\n",
    "print(f\"mae: {mae}, val_mae: {val_mae}\")"
   ]
  },
  {
   "cell_type": "markdown",
   "metadata": {},
   "source": [
    "# Prediction "
   ]
  },
  {
   "cell_type": "code",
   "execution_count": null,
   "metadata": {},
   "outputs": [],
   "source": [
    "#input file\n",
    "\n",
    "f_zip_test = file_path + 'test.zip'\n",
    "zip_test = zipfile.ZipFile(f_zip_test)\n",
    "df_test = pd.read_csv(zip_test.open('test.csv'))\n",
    "\n",
    "\n",
    "#zip_test = zipfile.ZipFile('C:\\\\Users\\\\pgulhare\\\\OneDrive - Capgemini\\\\ds code\\\\nyc-taxi-trip-duration\\\\test.zip')\n",
    "#df_test = pd.read_csv(zip_test.open('test.csv'))\n",
    "df_predict = df_test[['id']].copy()"
   ]
  },
  {
   "cell_type": "code",
   "execution_count": null,
   "metadata": {},
   "outputs": [],
   "source": [
    "df_test.head()"
   ]
  },
  {
   "cell_type": "code",
   "execution_count": null,
   "metadata": {},
   "outputs": [],
   "source": [
    "#data manupulation\n",
    "\n",
    "df_test['pickup_datetime'] = pd.to_datetime(df_test['pickup_datetime'], format = '%Y-%m-%d %H:%M:%S')\n",
    "df_test['hour'] = df_test['pickup_datetime'].apply(lambda x : x.hour)\n",
    "\n",
    "\n",
    "df_test['trip_distance'] = df_test.apply(lambda row : cal_distance(row), axis = 1)\n",
    "\n",
    "#encoding the feature columns\n",
    "df_test = pd.concat([df_test, pd.get_dummies(df_test['store_and_fwd_flag'],prefix = 'store')], axis=1)\n",
    "df_test.drop(['store_and_fwd_flag'], axis=1, inplace=True)\n",
    "\n",
    "df_test = pd.concat([df_test, pd.get_dummies(df_test['vendor_id'],prefix = 'vendor')], axis=1)\n",
    "df_test.drop(['vendor_id'], axis=1, inplace=True)\n",
    "df_test = df_test.drop(['id','dropoff_latitude', 'pickup_latitude', 'dropoff_longitude', 'pickup_longitude','pickup_datetime'], axis=1)\n"
   ]
  },
  {
   "cell_type": "code",
   "execution_count": null,
   "metadata": {},
   "outputs": [],
   "source": []
  },
  {
   "cell_type": "code",
   "execution_count": null,
   "metadata": {},
   "outputs": [],
   "source": [
    "#prediciton on test data\n",
    "df_test['trip_duration_in_sec'] = lr_model.predict(df_test).astype(int)"
   ]
  },
  {
   "cell_type": "code",
   "execution_count": null,
   "metadata": {},
   "outputs": [],
   "source": [
    "df_predict = pd.concat([df_predict, df_test], axis=1)\n",
    "df_predict = df_predict[['id', 'trip_duration_in_sec']]"
   ]
  },
  {
   "cell_type": "code",
   "execution_count": null,
   "metadata": {},
   "outputs": [],
   "source": [
    "df_predict\n",
    "NYC_Taxi_time_pred_path = file_path + 'NYC_Taxi_time_pred' + dt.datetime.now().strftime(\"%Y%m%d\") + '.csv'\n",
    "df_predict.to_csv(NYC_Taxi_time_pred_path)"
   ]
  }
 ],
 "metadata": {
  "kernelspec": {
   "display_name": "Python 3",
   "language": "python",
   "name": "python3"
  },
  "language_info": {
   "codemirror_mode": {
    "name": "ipython",
    "version": 3
   },
   "file_extension": ".py",
   "mimetype": "text/x-python",
   "name": "python",
   "nbconvert_exporter": "python",
   "pygments_lexer": "ipython3",
   "version": "3.6.4"
  }
 },
 "nbformat": 4,
 "nbformat_minor": 2
}
